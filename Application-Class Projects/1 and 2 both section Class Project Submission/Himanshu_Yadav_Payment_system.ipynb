{
  "nbformat": 4,
  "nbformat_minor": 0,
  "metadata": {
    "colab": {
      "provenance": []
    },
    "kernelspec": {
      "name": "python3",
      "display_name": "Python 3"
    },
    "language_info": {
      "name": "python"
    }
  },
  "cells": [
    {
      "cell_type": "code",
      "execution_count": null,
      "metadata": {
        "colab": {
          "base_uri": "https://localhost:8080/"
        },
        "id": "RhK18pT7sxM9",
        "outputId": "ae230749-b342-48c7-f636-e0274e894bde"
      },
      "outputs": [
        {
          "output_type": "stream",
          "name": "stdout",
          "text": [
            "Deposited: 2000\n",
            "Withdrew: 2400\n",
            "balance: 4600\n",
            "Himanshu\n",
            "9044\n"
          ]
        }
      ],
      "source": [
        "class Bank_Account:\n",
        "  def __init__(self, name, balance):\n",
        "    self.name=name\n",
        "    self._acc_no=9044\n",
        "    self.__balance=balance\n",
        "\n",
        "  def deposite (self, amount):\n",
        "    self.__balance+=amount\n",
        "    print(\"Deposited:\", amount)\n",
        "\n",
        "  def withdraw(self,amount):\n",
        "    if self.__balance>=amount:\n",
        "      self.__balance-=amount\n",
        "      print(\"Withdrew:\",amount)\n",
        "    else:\n",
        "      print(\"Insufficient Funds!\")\n",
        "  def display_balance(self):\n",
        "    print(\"balance:\",self.__balance)\n",
        "\n",
        "acc=Bank_Account(\"Himanshu\",5000)\n",
        "acc.deposite(2000)\n",
        "acc.withdraw(2400)\n",
        "acc.display_balance()\n",
        "\n",
        "print(acc.name)\n",
        "print(acc._acc_no)"
      ]
    }
  ]
}