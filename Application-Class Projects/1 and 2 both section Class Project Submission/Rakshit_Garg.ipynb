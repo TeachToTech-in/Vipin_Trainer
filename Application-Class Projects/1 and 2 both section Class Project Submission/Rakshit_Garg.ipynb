{
  "nbformat": 4,
  "nbformat_minor": 0,
  "metadata": {
    "colab": {
      "provenance": []
    },
    "kernelspec": {
      "name": "python3",
      "display_name": "Python 3"
    },
    "language_info": {
      "name": "python"
    }
  },
  "cells": [
    {
      "cell_type": "code",
      "execution_count": null,
      "metadata": {
        "colab": {
          "base_uri": "https://localhost:8080/"
        },
        "id": "4wN9WoveteHB",
        "outputId": "97e645f3-3569-48fd-d616-574f1a37d7c7"
      },
      "outputs": [
        {
          "output_type": "stream",
          "name": "stdout",
          "text": [
            "30\n",
            "6.0\n",
            "HelloAI\n"
          ]
        }
      ],
      "source": [
        "def add(x,y):\n",
        "  return x+y\n",
        "\n",
        "print(add(10,20)) #int+int\n",
        "print(add(3.5,2.5)) #float+float\n",
        "print(add(\"Hello\",\"AI\")) #str+str"
      ]
    },
    {
      "cell_type": "code",
      "source": [
        "class Duck:\n",
        "  def sound(self):\n",
        "    print(\"Quack Quack\")\n",
        "\n",
        "class Dog:\n",
        "  def sound(self):\n",
        "    print(\"Woof Woof\")\n",
        "\n",
        "def make_sound(animal):\n",
        "    animal.sound()\n",
        "\n",
        "make_sound(Duck())\n",
        "make_sound(Dog())"
      ],
      "metadata": {
        "colab": {
          "base_uri": "https://localhost:8080/"
        },
        "id": "35U_g0OsxsXR",
        "outputId": "f9d3af2a-7642-4b59-e695-a80f08273a71"
      },
      "execution_count": null,
      "outputs": [
        {
          "output_type": "stream",
          "name": "stdout",
          "text": [
            "Quack Quack\n",
            "Woof Woof\n"
          ]
        }
      ]
    },
    {
      "cell_type": "code",
      "source": [
        "class BankAccount:\n",
        "  def __init__(self,name,balance):\n",
        "    self.name = name #public\n",
        "    self.account_number = 1234587 #protected\n",
        "    self.__balance = balance #private\n",
        "\n",
        "  def deposit(self,amount):\n",
        "    self.__balance += amount\n",
        "    print(\"Deposited:\", amount)\n",
        "\n",
        "  def withdraw(self,amount):\n",
        "    if self.__balance >= amount:\n",
        "        self.__balance -= amount\n",
        "        print(\"Withdraw:\",amount)\n",
        "    else:\n",
        "      print(\"Insufficient funds\")\n",
        "  def display_balance(self):\n",
        "    print(\"balance:\", self.__balance)\n",
        "acc = BankAccount(\"Rahul\",5000)\n",
        "acc.deposit(2000)\n",
        "acc.withdraw(1000)\n",
        "acc.display_balance()\n",
        "\n"
      ],
      "metadata": {
        "colab": {
          "base_uri": "https://localhost:8080/"
        },
        "id": "TWXsWKDb1rTb",
        "outputId": "b8b9c412-b28e-49ca-8959-85111415406c"
      },
      "execution_count": null,
      "outputs": [
        {
          "output_type": "stream",
          "name": "stdout",
          "text": [
            "Deposited: 2000\n",
            "Withdraw: 1000\n",
            "balance: 6000\n"
          ]
        }
      ]
    },
    {
      "cell_type": "code",
      "source": [
        "class Bird:\n",
        "  def fly(self):\n",
        "    print(\"Birds can fly\")\n",
        "\n",
        "class Penguin(Bird):\n",
        "  def fly(self):\n",
        "      print(\"Penguins cannot fly\")\n",
        "\n",
        "b1 = Bird()\n",
        "p1 = Penguin()\n",
        "b1.fly()\n",
        "p1.fly()"
      ],
      "metadata": {
        "colab": {
          "base_uri": "https://localhost:8080/"
        },
        "id": "aQK6o_uz99zy",
        "outputId": "5b2ead39-81d6-4ba0-bb0e-5f2b972f5418"
      },
      "execution_count": null,
      "outputs": [
        {
          "output_type": "stream",
          "name": "stdout",
          "text": [
            "Birds can fly\n",
            "Penguins cannot fly\n"
          ]
        }
      ]
    },
    {
      "cell_type": "code",
      "source": [
        "class Payment:\n",
        "  def pay(self,amount):\n",
        "    raise NotImplementedError(\"Subclass must implement pay method\")\n",
        "\n",
        "class CreditCard(Payment):\n",
        "  def pay(self,amount):\n",
        "    return f\"Paid{amount}using credit card\"\n",
        "\n",
        "class PayPal(Payment):\n",
        "  def pay (self,amount):\n",
        "    return f\"Paid {amount}using PayPal\"\n",
        "\n",
        "class Crypto(Payment):\n",
        "  def pay(self,amount):\n",
        "    return f\"Paid{amount}using Cryptocurrency B\"\n",
        "\n",
        "payments=[CreditCard(),PayPal(),Crypto()]\n",
        "for method in payments:\n",
        "  print (method.pay(500))\n"
      ],
      "metadata": {
        "colab": {
          "base_uri": "https://localhost:8080/"
        },
        "id": "hjkH8Ss69U_m",
        "outputId": "c4527df6-baaf-4400-ceb3-8e7fe6fb0202"
      },
      "execution_count": null,
      "outputs": [
        {
          "output_type": "stream",
          "name": "stdout",
          "text": [
            "Paid500using credit card\n",
            "Paid 500using PayPal\n",
            "Paid500using Cryptocurrency B\n"
          ]
        }
      ]
    }
  ]
}