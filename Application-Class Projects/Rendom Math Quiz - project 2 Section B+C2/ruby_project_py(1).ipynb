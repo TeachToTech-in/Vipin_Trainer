{
  "nbformat": 4,
  "nbformat_minor": 0,
  "metadata": {
    "colab": {
      "provenance": []
    },
    "kernelspec": {
      "name": "python3",
      "display_name": "Python 3"
    },
    "language_info": {
      "name": "python"
    }
  },
  "cells": [
    {
      "cell_type": "code",
      "execution_count": 4,
      "metadata": {
        "id": "TQZkJIRsHOj-"
      },
      "outputs": [],
      "source": [
        "import math"
      ]
    },
    {
      "cell_type": "code",
      "source": [
        "#square root and power\n",
        "print(\"Square root of 16:\", math.sqrt(16))\n",
        "print(\"2 raised to the power 5:\", math.pow(2,5))"
      ],
      "metadata": {
        "colab": {
          "base_uri": "https://localhost:8080/"
        },
        "id": "3o116m3nHXgy",
        "outputId": "6ebb933e-3911-4131-d96e-5214763ff857"
      },
      "execution_count": 5,
      "outputs": [
        {
          "output_type": "stream",
          "name": "stdout",
          "text": [
            "Square root of 16: 4.0\n",
            "2 raised to the power 5: 32.0\n"
          ]
        }
      ]
    },
    {
      "cell_type": "code",
      "source": [
        "print(\"Pi:\", math.pi)\n",
        "print(\"Euler's number:\", math.e)"
      ],
      "metadata": {
        "colab": {
          "base_uri": "https://localhost:8080/"
        },
        "id": "qhlWMG-DJEwq",
        "outputId": "a4bd0d18-147f-41c9-fd89-ceb050647d11"
      },
      "execution_count": 6,
      "outputs": [
        {
          "output_type": "stream",
          "name": "stdout",
          "text": [
            "Pi: 3.141592653589793\n",
            "Euler's number: 2.718281828459045\n"
          ]
        }
      ]
    },
    {
      "cell_type": "code",
      "source": [
        "#trignometric functions\n",
        "print(\"cos(180):\",math.cos(math.radians(180)))"
      ],
      "metadata": {
        "colab": {
          "base_uri": "https://localhost:8080/"
        },
        "id": "-3JV28jnKFg5",
        "outputId": "0cea3518-b8f5-4d78-92b0-3cf4aa7f8f58"
      },
      "execution_count": 11,
      "outputs": [
        {
          "output_type": "stream",
          "name": "stdout",
          "text": [
            "cos(180): -1.0\n"
          ]
        }
      ]
    },
    {
      "cell_type": "code",
      "source": [
        "import math\n",
        "import random\n",
        "import datetime\n",
        "\n",
        "#List of questions(using math functions)\n",
        "questions = [\n",
        "     (\"What is the square root of 64?\", math.sqrt(64)),\n",
        "     (\"What is 2 raised to the power of 5?\", math.pow(2,5)),\n",
        "     (\"What is factorial of 5?\", math.factorial(5)),\n",
        "     (\"What is sin(90)?\",round(math.sin(math.radians(90)),2)),\n",
        "     (\"What is log base 10 out of 1000?\",math.log10(1000)),\n",
        "]\n",
        " #shuffle questions randomly\n",
        "random.shuffle(questions)\n",
        "print(\"Welcome to the math quiz game!\")\n",
        "print(\"You have 5 questions. Let's begin...\\n\")\n",
        "\n",
        "\n",
        "score = 0\n",
        "start_time = datetime.datetime.now()\n",
        "for i,(q,ans) in enumerate(questions, 1):\n",
        "  print(f\"Q{i}: {q}\")\n",
        "  user_answer = input(\"your answer:\")\n",
        "\n",
        "  try:\n",
        "    if abs(float(user_answer)-float(ans))<0.01:\n",
        "      print(\"correct!\\n\")\n",
        "      score+=1\n",
        "    else:\n",
        "      print(f\"Wrong! Correct answer = {ans}\\n\")\n",
        "  except:\n",
        "    print(f\"Invalid input! Correct answer = {ans}\\n\")\n",
        "end_time= datetime.datetime.now()\n",
        "time_taken= end_time - start_time\n",
        "\n",
        "print(\"Quiz Over!\")\n",
        "print(f\" your score: {score}/{len(questions)}\")\n",
        "print(f\"Time taken: {time_taken.seconds} seconds\")"
      ],
      "metadata": {
        "colab": {
          "base_uri": "https://localhost:8080/"
        },
        "id": "dfMLKTaWMipt",
        "outputId": "0a19e0df-1a36-4cf5-c58b-284835166e5d"
      },
      "execution_count": 29,
      "outputs": [
        {
          "output_type": "stream",
          "name": "stdout",
          "text": [
            "Welcome to the math quiz game!\n",
            "You have 5 questions. Let's begin...\n",
            "\n",
            "Q1: What is 2 raised to the power of 5?\n",
            "your answer:32\n",
            "correct!\n",
            "\n",
            "Q2: What is factorial of 5?\n",
            "your answer:120\n",
            "correct!\n",
            "\n",
            "Q3: What is sin(90)?\n",
            "your answer:1\n",
            "correct!\n",
            "\n",
            "Q4: What is log base 10 out of 1000?\n",
            "your answer:3\n",
            "correct!\n",
            "\n",
            "Q5: What is the square root of 64?\n",
            "your answer:8\n",
            "correct!\n",
            "\n",
            "Quiz Over!\n",
            " your score: 5/5\n",
            "Time taken: 40 seconds\n"
          ]
        }
      ]
    }
  ]
}