{
  "metadata": {
    "kernelspec": {
      "name": "xpython",
      "display_name": "Python 3.13 (XPython)",
      "language": "python"
    },
    "language_info": {
      "file_extension": ".py",
      "mimetype": "text/x-python",
      "name": "python",
      "version": "3.13.1"
    }
  },
  "nbformat_minor": 5,
  "nbformat": 4,
  "cells": [
    {
      "id": "0df89a6e-751a-4c3b-98b9-4ce2e90f71b2",
      "cell_type": "code",
      "source": "import math\nimport random\nimport datetime\n\n#list of qustion(using math functions)\nquestion=[\n    (\"what is the square root of 81?\",math.sqrt(81)),\n    (\"whta is 2 raised to power6?\",math.pow(2,6)),\n    (\"what is factorial of 5?\",math.factorial(5)),\n    (\"what is sin(90)?\",round(math.sin(math.radians(90)),2)),\n    (\"what is log base 10 of 1000?\",math.log10(1000)),\n]\n\nrandom.shuffle(question)\nprint(\"welcome to the math quiz game!\")\nprint(\"you have 5 question.let's begin...\\n\")\n\nscore=0\nstart_time=datetime.datetime.now()\nfor i,(q,ans) in enumerate(question,1):\n    print(f\"q{i}:{q}\")\n    user_answer=input(\"your answer:\")\n\n    try:\n        if abs(float(user_answer) - float(ans))<0.01:\n            print(\"correct!\\n\")\n            score+=1\n        else:\n            print(f\"wrong!correct answer={ans}\\n\")\n    except:\n        print(f\"invalid input!correct answer={ans}\\n\")\nend_time=datetime.datetime.now()\ntime_taken=end_time - start_time\n\nprint(\"quiz over!\")\nprint(f\"your score:{score}/{len(question)}\")\nprint(f\"time taken:{time_taken.seconds} seconds\")\n\n",
      "metadata": {
        "trusted": true
      },
      "outputs": [
        {
          "name": "stdout",
          "output_type": "stream",
          "text": "welcome to the math quiz game!\nyou have 5 question.let's begin...\n\nq1:whta is 2 raised to power6?\n"
        },
        {
          "output_type": "stream",
          "name": "stdin",
          "text": "your answer: 32\n"
        },
        {
          "name": "stdout",
          "output_type": "stream",
          "text": "wrong!correct answer=64.0\n\nq2:what is factorial of 5?\n"
        },
        {
          "output_type": "stream",
          "name": "stdin",
          "text": "your answer: 120\n"
        },
        {
          "name": "stdout",
          "output_type": "stream",
          "text": "correct!\n\nq3:what is sin(90)?\n"
        },
        {
          "output_type": "stream",
          "name": "stdin",
          "text": "your answer: 1\n"
        },
        {
          "name": "stdout",
          "output_type": "stream",
          "text": "correct!\n\nq4:what is log base 10 of 1000?\n"
        },
        {
          "output_type": "stream",
          "name": "stdin",
          "text": "your answer: 1000\n"
        },
        {
          "name": "stdout",
          "output_type": "stream",
          "text": "wrong!correct answer=3.0\n\nq5:what is the square root of 81?\n"
        },
        {
          "output_type": "stream",
          "name": "stdin",
          "text": "your answer: 9\n"
        },
        {
          "name": "stdout",
          "output_type": "stream",
          "text": "correct!\n\nquiz over!\nyour score:3/5\ntime taken:50 seconds\n"
        }
      ],
      "execution_count": 13
    },
    {
      "id": "17cfef30-2071-4617-8108-68e8d9b9d49e",
      "cell_type": "code",
      "source": "",
      "metadata": {
        "trusted": true
      },
      "outputs": [],
      "execution_count": null
    }
  ]
}