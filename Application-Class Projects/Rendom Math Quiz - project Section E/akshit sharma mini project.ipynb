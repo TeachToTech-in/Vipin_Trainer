{
  "metadata": {
    "kernelspec": {
      "name": "xpython",
      "display_name": "Python 3.13 (XPython)",
      "language": "python"
    },
    "language_info": {
      "file_extension": ".py",
      "mimetype": "text/x-python",
      "name": "python",
      "version": "3.13.1"
    }
  },
  "nbformat_minor": 5,
  "nbformat": 4,
  "cells": [
    {
      "id": "726644f2-f5f0-409d-a9a7-bdb35e493649",
      "cell_type": "markdown",
      "source": "",
      "metadata": {}
    },
    {
      "id": "d5492925-d11c-4c2d-80d3-f59612bb4e6d",
      "cell_type": "code",
      "source": "#### import math \nimport random \nimport datetime\n\nquestions = [\n    (\"what is the square root 0f 81?\",math.sqrt(81)),\n    (\"what is 2 raised to power 6?\", math.pow(2,6)),\n    (\"what is factorial of 5 ?\", math.factorial(5)),\n    (\"what is sin 90 ?\",round(math.sin(math.radians(90)),2)),\n    (\"what is log base 10 of 1000 ? \", math.log10(1000))\n]\n\nrandom.shuffle(questions)\n\nprint(\"welcome to the math quiz game\")\nprint(\"you have 5 questions. lets begin....\\n\")\n\nscore = 0\nstart_time = datetime.datetime.now()\nfor i,(q,ans) in enumerate(questions,1):\n    print(f\"Q{i}: {q}\")\n    user_answer = input(\"your answer : \")\n    try:\n        if abs(float(user_answer) - float(ans)) <0.01: \n            print(\"correct! \\n \")\n            score +=1\n        else:\n            print(f\"wrong! correct answer = {ans}\\n\")\n    except:\n        print(f\"invalid input! correct answer = {ans} \\n\")\n\nend_time = datetime.datetime.now()\ntime_taken = end_time - start_time\n\nprint(\"quiz over \")\nprint(f\"you score: {score}/ {len(questions)}\")\nprint(f\"time taken : {time_taken.seconds}\")",
      "metadata": {
        "trusted": true
      },
      "outputs": [
        {
          "name": "stdout",
          "output_type": "stream",
          "text": "welcome to the math quiz game\nyou have 5 questions. lets begin....\n\nQ1: what is the square root 0f 81?\n"
        },
        {
          "output_type": "stream",
          "name": "stdin",
          "text": "your answer :  9\n"
        },
        {
          "name": "stdout",
          "output_type": "stream",
          "text": "correct! \n \nQ2: what is factorial of 5 ?\n"
        },
        {
          "output_type": "stream",
          "name": "stdin",
          "text": "your answer :  120\n"
        },
        {
          "name": "stdout",
          "output_type": "stream",
          "text": "correct! \n \nQ3: what is 2 raised to power 6?\n"
        }
      ],
      "execution_count": null
    }
  ]
}