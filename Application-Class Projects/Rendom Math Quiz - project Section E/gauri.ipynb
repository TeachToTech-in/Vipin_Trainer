{
  "nbformat": 4,
  "nbformat_minor": 0,
  "metadata": {
    "colab": {
      "provenance": []
    },
    "kernelspec": {
      "name": "python3",
      "display_name": "Python 3"
    },
    "language_info": {
      "name": "python"
    }
  },
  "cells": [
    {
      "cell_type": "code",
      "execution_count": null,
      "metadata": {
        "colab": {
          "base_uri": "https://localhost:8080/"
        },
        "id": "l3zhb1C0pyno",
        "outputId": "b2a2abeb-aa09-4689-ddf7-1c603c4cd8bf"
      },
      "outputs": [
        {
          "output_type": "stream",
          "name": "stdout",
          "text": [
            "welcome to the maths quiz game!\n",
            "you have 5 questions. let's begin...\n",
            "\n",
            "Q1:what is the square root of 81?\n"
          ]
        }
      ],
      "source": [
        "import math\n",
        "import random\n",
        "import datetime\n",
        "\n",
        "questions=[\n",
        "    (\"what is the square root of 81?\", math.sqrt(81)),\n",
        "    (\"what is 2 raised to power 6?\", math.pow(2,6)),\n",
        "    (\"what is factorial of 5?\", math.factorial(5)),\n",
        "    (\"what is sin 90?\", round(math.sin(math.radians(90)), 2)), # Added missing parenthesis and rounded to 2 decimal places\n",
        "    (\"what is log base 10 of 1000?\", math.log10(1000))\n",
        "]\n",
        "\n",
        "#shuffle questions randomly\n",
        "random.shuffle(questions)\n",
        "\n",
        "print(\"welcome to the maths quiz game!\")\n",
        "print(\"you have 5 questions. let's begin...\\n\")\n",
        "\n",
        "score = 0\n",
        "start_time = datetime.datetime.now() # Corrected variable name\n",
        "\n",
        "for i,(q,ans)in enumerate(questions,1):\n",
        "    print(f\"Q{i}:{q}\")\n",
        "    user_answer = input(\"your answer:\")\n",
        "\n",
        "    try:\n",
        "        if abs(float(user_answer) - float(ans)) < 0.01:\n",
        "            print(\"correct!\\n\")\n",
        "            score += 1\n",
        "        else:\n",
        "            print(f\" wrong! correct answer = {ans}\\n\")\n",
        "    except ValueError: # Catch ValueError for invalid float conversions\n",
        "        print(f\"invalid input! correct answer = {ans}\\n\")\n",
        "\n",
        "\n",
        "end_time = datetime.datetime.now()\n",
        "time_taken = end_time - start_time\n",
        "\n",
        "print(\"quiz over!\")\n",
        "print(f\"your score:{score}/{len(questions)}\")\n",
        "print(f\"time taken:{time_taken.seconds} seconds\") # Added space"
      ]
    }
  ]
}