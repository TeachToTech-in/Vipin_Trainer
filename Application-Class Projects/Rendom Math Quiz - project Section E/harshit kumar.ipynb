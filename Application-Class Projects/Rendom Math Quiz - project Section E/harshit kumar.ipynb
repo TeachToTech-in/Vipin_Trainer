{
  "nbformat": 4,
  "nbformat_minor": 0,
  "metadata": {
    "colab": {
      "provenance": []
    },
    "kernelspec": {
      "name": "python3",
      "display_name": "Python 3"
    },
    "language_info": {
      "name": "python"
    }
  },
  "cells": [
    {
      "cell_type": "code",
      "source": [
        "import math\n",
        "import random\n",
        "import datetime\n",
        "\n",
        "questions=[\n",
        "    (\"what is square root of 81?\",math.sqrt(81)),\n",
        "    (\"what is 2 raised to power 6?\",math.pow(2,6)),\n",
        "    (\"what is factorial of 5?\",math.factorial(5)),\n",
        "    (\"what is sin(90) in degrees?\",round(math.sin(math.radians(90)))),\n",
        "    (\"what is cos(90) in degrees?\",round(math.cos(math.radians(90)))),\n",
        "    (\"what is tan(90) in degrees?\",round(math.tan(math.radians(90)))),\n",
        "    (\"what is log base 10 of 1000?\",math.log10(1000))\n",
        "]\n",
        "random.shuffle(questions)\n",
        "print(\"welcome to the math quiz game!\")\n",
        "print(\"you have 5 questions. lets begin...\\n\")\n",
        "score=0\n",
        "start_time=datetime.datetime.now()\n",
        "for i,(q,ans)in enumerate(questions,1):\n",
        "  print(f'Q{i}:{q}')\n",
        "  user_answer=input(\"your answer:\")\n",
        "  try:\n",
        "        if abs(float(user_answer)-float(ans))<0.01:\n",
        "            print(\"correct!\\n\")\n",
        "            score+=1\n",
        "        else:\n",
        "            print(f'wrong! correct answer={ans}\\n')\n",
        "  except ValueError:\n",
        "        print(\"Invalid input. Please enter a number.\\n\")\n",
        "\n",
        "end_time=datetime.datetime.now()\n",
        "time_taken=end_time-start_time\n",
        "print(\"quiz time\")\n",
        "print(f'you score:{score}/{len(questions)}')\n",
        "print(f'time taken:{time_taken.total_seconds():.2f} seconds')"
      ],
      "metadata": {
        "colab": {
          "base_uri": "https://localhost:8080/"
        },
        "id": "KUqbKLZPlpcX",
        "outputId": "070e3ef2-43e2-4ae1-d3c9-ef23c1863ed1"
      },
      "execution_count": null,
      "outputs": [
        {
          "output_type": "stream",
          "name": "stdout",
          "text": [
            "welcome to the math quiz game!\n",
            "you have 5 questions. lets begin...\n",
            "\n",
            "Q1:what is factorial of 5?\n",
            "your answer:120\n",
            "correct!\n",
            "\n",
            "Q2:what is tan(90) in degrees?\n"
          ]
        }
      ]
    }
  ]
}