{
  "cells": [
    {
      "cell_type": "code",
      "execution_count": null,
      "metadata": {
        "id": "jMjjq5BbNgUP"
      },
      "outputs": [],
      "source": [
        "#Class Projects"
      ]
    },
    {
      "cell_type": "code",
      "execution_count": null,
      "metadata": {
        "colab": {
          "base_uri": "https://localhost:8080/"
        },
        "id": "icVh35ZNFAa1",
        "outputId": "11b97874-132f-427d-b8c6-8e8308f15a61"
      },
      "outputs": [
        {
          "name": "stdout",
          "output_type": "stream",
          "text": [
            "enter a number-78\n",
            "negative\n",
            "enter a fruitapple\n",
            "apple is good for health\n",
            "enter a wordapple\n",
            "correct\n"
          ]
        }
      ],
      "source": [
        "#Write your code here\n",
        "x=int(input(\"enter a number\"))\n",
        "if x>0:\n",
        "  print(\"positive\")\n",
        "elif x<0:\n",
        "  print(\"negative\")\n",
        "else:\n",
        "  print(\"zero\")\n",
        "\n",
        "#3\n",
        "x=input(\"enter a fruit\")\n",
        "if x==\"apple\":\n",
        "  print(\"apple is good for health\")\n",
        "elif x==\"banana\":\n",
        "  print(\"banana is good for health\")\n",
        "else:\n",
        "  print(\"system hang\")\n",
        "\n",
        "#4\n",
        "x=input(\"enter a word\")\n",
        "if x==\"apple\":\n",
        "  print(\"correct\")\n",
        "else:\n",
        "  print(\"incorrect\")\n"
      ]
    },
    {
      "cell_type": "code",
      "execution_count": null,
      "metadata": {
        "colab": {
          "base_uri": "https://localhost:8080/"
        },
        "id": "4llbI8YiOlxl",
        "outputId": "0d332b44-a2b1-47dd-c677-68a044a6ffec"
      },
      "outputs": [
        {
          "name": "stdout",
          "output_type": "stream",
          "text": [
            "\n",
            "Attendance Management System Menu:\n",
            "1. Record Attendance\n",
            "2. View Attendance\n",
            "3. Exit\n",
            "Enter your choice: 3\n",
            "Exiting Attendance Management System.\n"
          ]
        }
      ],
      "source": [
        "# Attendence Management System:\n",
        "attendance_records = {}\n",
        "\n",
        "while True:\n",
        "    print(\"\\nAttendance Management System Menu:\")\n",
        "    print(\"1. Record Attendance\")\n",
        "    print(\"2. View Attendance\")\n",
        "    print(\"3. Exit\")\n",
        "\n",
        "    choice = input(\"Enter your choice: \")\n",
        "\n",
        "    if choice == '1':\n",
        "        student_name = input(\"Enter student name: \")\n",
        "        date = input(\"Enter date (YYYY-MM-DD): \")\n",
        "        status = input(\"Enter status (Present/Absent): \")\n",
        "        record_attendance(attendance_records, student_name, date, status)\n",
        "        print(\"Attendance recorded.\")\n",
        "    elif choice == '2':\n",
        "        view_choice = input(\"View attendance for all students or a specific student? (all/specific): \")\n",
        "        if view_choice.lower() == 'specific':\n",
        "            student_name = input(\"Enter student name: \")\n",
        "            view_attendance(attendance_records, student_name)\n",
        "        else:\n",
        "            view_attendance(attendance_records)\n",
        "    elif choice == '3':\n",
        "        print(\"Exiting Attendance Management System.\")\n",
        "        break\n",
        "    else:\n",
        "        print(\"Invalid choice. Please try again.\")\n"
      ]
    }
  ],
  "metadata": {
    "colab": {
      "provenance": []
    },
    "kernelspec": {
      "display_name": "Python 3",
      "name": "python3"
    }
  },
  "nbformat": 4,
  "nbformat_minor": 0
}
